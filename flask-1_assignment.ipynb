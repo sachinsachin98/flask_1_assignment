{
 "cells": [
  {
   "cell_type": "markdown",
   "id": "b185b627-ed25-4bce-bf7f-1512d61e4e3d",
   "metadata": {},
   "source": [
    "#Q1\n",
    "Flask is a lightweight and popular Python web framework used for building web applications. It is classified as a microframework because it provides only the essential tools and libraries to create web applications, keeping the core simple and easy to understand. Flask follows the WSGI (Web Server Gateway Interface) specification and is compatible with most web servers and platforms.\n",
    "\n",
    "Advantages of Flask Framework:\n",
    "\n",
    "Lightweight and Minimalistic: Flask is a minimalistic framework with a small code base, making it easy to learn and use. It provides the essential tools needed to build web applications without unnecessary features, giving developers more control over their code.\n",
    "\n",
    "Easy to Get Started: Flask has a simple and intuitive API that allows developers to quickly start building web applications. Its simplicity is ideal for beginners, but it can also scale to handle more complex projects.\n",
    "\n",
    "Flexible and Extensible: Flask allows developers to choose their components and extensions, offering flexibility in how the application is structured. There is a wide range of third-party extensions available, enabling developers to add features as needed.\n",
    "\n",
    "RESTful Support: Flask makes it easy to design RESTful APIs by providing tools to handle HTTP methods, URL routing, and response handling. This makes it a popular choice for creating web services and APIs."
   ]
  },
  {
   "cell_type": "code",
   "execution_count": 4,
   "id": "2b1a344f-3587-4693-8111-1f0d4497293c",
   "metadata": {},
   "outputs": [
    {
     "name": "stdout",
     "output_type": "stream",
     "text": [
      "Requirement already satisfied: flask in /opt/conda/lib/python3.10/site-packages (2.3.2)\n",
      "Requirement already satisfied: Jinja2>=3.1.2 in /opt/conda/lib/python3.10/site-packages (from flask) (3.1.2)\n",
      "Requirement already satisfied: click>=8.1.3 in /opt/conda/lib/python3.10/site-packages (from flask) (8.1.3)\n",
      "Requirement already satisfied: itsdangerous>=2.1.2 in /opt/conda/lib/python3.10/site-packages (from flask) (2.1.2)\n",
      "Requirement already satisfied: blinker>=1.6.2 in /opt/conda/lib/python3.10/site-packages (from flask) (1.6.2)\n",
      "Requirement already satisfied: Werkzeug>=2.3.3 in /opt/conda/lib/python3.10/site-packages (from flask) (2.3.6)\n",
      "Requirement already satisfied: MarkupSafe>=2.0 in /opt/conda/lib/python3.10/site-packages (from Jinja2>=3.1.2->flask) (2.1.1)\n"
     ]
    }
   ],
   "source": [
    "#Q2\n",
    "!pip install flask\n",
    "\n",
    "from flask import Flask\n",
    "\n",
    "app = Flask(__name__)\n",
    "\n",
    "\n",
    "@app.route('/')\n",
    "def hello():\n",
    "    return 'Hello, World!'\n"
   ]
  },
  {
   "cell_type": "markdown",
   "id": "72581af3-19fa-4ef5-92b4-b50eddf58a68",
   "metadata": {},
   "source": [
    "#Q3\n",
    "In Flask, app routing refers to the process of defining URL patterns (routes) that correspond to specific functions in the application. These routes determine how the application responds to different HTTP requests from clients (such as web browsers or API consumers). Each route is associated with a view function, which is executed when a client accesses that particular URL.\n",
    "\n",
    "App routing is a fundamental concept in Flask and is achieved using the @app.route() decorator. The decorator allows you to map a URL to a Python function, and when a user makes a request to that URL, Flask will call the associated function to generate the response."
   ]
  },
  {
   "cell_type": "code",
   "execution_count": null,
   "id": "968f4b33-c95c-4db2-aafa-b9918ca09f63",
   "metadata": {},
   "outputs": [],
   "source": [
    "#Q4\n",
    "from flask import Flask\n",
    "\n",
    "app = Flask(__name__)\n",
    "\n",
    "@app.route('/welcome')\n",
    "def welcome():\n",
    "    return 'Welcome to ABC Corporation'\n",
    "\n",
    "@app.route('/')\n",
    "def company_details():\n",
    "    company_name = 'ABC Corporation'\n",
    "    location = 'India'\n",
    "    contact_detail = '999-999-9999'\n",
    "    return f'''\n",
    "    Company Name: {company_name}\n",
    "    Location: {location}\n",
    "    Contact Detail: {contact_detail}\n",
    "    '''\n",
    "\n",
    "if __name__ == '__main__':\n",
    "    app.run(debug=True)\n"
   ]
  },
  {
   "cell_type": "markdown",
   "id": "592ae95c-1517-481a-b838-3932b69af0c9",
   "metadata": {},
   "source": [
    "#Q5\n",
    "In Flask, the url_for() function is used for URL building. It generates a URL for a given view function based on its name and any additional arguments provided. Using url_for(), you can avoid hardcoding URLs in your templates or code, making your application more maintainable and flexible."
   ]
  },
  {
   "cell_type": "code",
   "execution_count": 7,
   "id": "c4197e73-d1e9-4a68-915e-fc6400d11c99",
   "metadata": {},
   "outputs": [
    {
     "name": "stdout",
     "output_type": "stream",
     "text": [
      "Home URL: /\n",
      "About URL: /about\n",
      "Contact URL: /contact\n",
      "User Profile URL: /user/sach\n"
     ]
    }
   ],
   "source": [
    "from flask import Flask, url_for\n",
    "\n",
    "app = Flask(__name__)\n",
    "\n",
    "@app.route('/')\n",
    "def index():\n",
    "    return 'Welcome to the homepage!'\n",
    "\n",
    "@app.route('/about')\n",
    "def about():\n",
    "    return 'This is the about page.'\n",
    "\n",
    "@app.route('/contact')\n",
    "def contact():\n",
    "    return 'Contact us at: contact@example.com'\n",
    "\n",
    "@app.route('/user/<username>')\n",
    "def user_profile(username):\n",
    "    return f'User Profile: {username}'\n",
    "\n",
    "if __name__ == '__main__':\n",
    "    with app.test_request_context():\n",
    "        # Using url_for() to build URLs for the defined view functions\n",
    "        home_url = url_for('index')\n",
    "        about_url = url_for('about')\n",
    "        contact_url = url_for('contact')\n",
    "        user_url = url_for('user_profile', username='sach')\n",
    "\n",
    "        # Print the generated URLs\n",
    "        print(\"Home URL:\", home_url)\n",
    "        print(\"About URL:\", about_url)\n",
    "        print(\"Contact URL:\", contact_url)\n",
    "        print(\"User Profile URL:\", user_url)\n"
   ]
  },
  {
   "cell_type": "code",
   "execution_count": null,
   "id": "ebd82dec-3175-4653-92d6-3d413acbf9c6",
   "metadata": {},
   "outputs": [],
   "source": []
  }
 ],
 "metadata": {
  "kernelspec": {
   "display_name": "Python 3 (ipykernel)",
   "language": "python",
   "name": "python3"
  },
  "language_info": {
   "codemirror_mode": {
    "name": "ipython",
    "version": 3
   },
   "file_extension": ".py",
   "mimetype": "text/x-python",
   "name": "python",
   "nbconvert_exporter": "python",
   "pygments_lexer": "ipython3",
   "version": "3.10.8"
  }
 },
 "nbformat": 4,
 "nbformat_minor": 5
}
